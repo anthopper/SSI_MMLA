{
 "cells": [
  {
   "cell_type": "markdown",
   "metadata": {},
   "source": [
    "## Exploratory analysis of Kinect data from Python session \n",
    "\n",
    "(E and K pair debugging an implementation of the hangman game)"
   ]
  },
  {
   "cell_type": "code",
   "execution_count": 1,
   "metadata": {},
   "outputs": [],
   "source": [
    "# Import software libraries\n",
    "import numpy as np\n",
    "from sklearn.cluster import KMeans\n",
    "import pandas as pd\n",
    "\n",
    "import seaborn as sns # for the nicer default plot aesthetics \n",
    "import matplotlib.pyplot as plt\n",
    "from mpl_toolkits.mplot3d import Axes3D\n",
    "% matplotlib inline \n",
    "# % matplotlib notebook\n",
    "\n",
    "from IPython.display import display\n",
    "pd.options.display.max_columns = None\n",
    "import pprint as pp\n",
    "\n",
    "import helpers # written by us for MMLA pipeline purposes"
   ]
  },
  {
   "cell_type": "code",
   "execution_count": null,
   "metadata": {},
   "outputs": [],
   "source": [
    "# Import data from Unity or Python session\n",
    "# Contact repository owners if you would like an anonymized data sample to run this notebook on your computer\n",
    "skeleton_df = pd.read_csv('data/kinectSkeleton.csv', sep=';', names=helpers.col_names())"
   ]
  },
  {
   "cell_type": "code",
   "execution_count": null,
   "metadata": {},
   "outputs": [],
   "source": [
    "# Clustering\n",
    "kmeans = KMeans(n_clusters=8, random_state=0).fit(skeleton_df)\n",
    "print(kmeans.labels_)\n",
    "#kmeans.predict([[unseen data goes here]])\n",
    "kmeans.cluster_centers_"
   ]
  },
  {
   "cell_type": "code",
   "execution_count": null,
   "metadata": {},
   "outputs": [],
   "source": [
    "# Quick overview of how many rows are in each cluster\n",
    "plt.figure()\n",
    "plt.hist(kmeans.labels_)\n",
    "plt.xlabel('Cluster #')\n",
    "plt.ylabel('Count')\n",
    "plt.show()"
   ]
  },
  {
   "cell_type": "code",
   "execution_count": null,
   "metadata": {
    "collapsed": true
   },
   "outputs": [],
   "source": [
    "# Set up dataframe of XYZ position columns\n",
    "kinect_xyz_df = helpers.create_xyz_df(skeleton_df)"
   ]
  },
  {
   "cell_type": "code",
   "execution_count": null,
   "metadata": {},
   "outputs": [],
   "source": [
    "# Add ClusterLabel column to dataframes\n",
    "kinect_xyz_df['ClusterLabel'] = kmeans.labels_\n",
    "skeleton_df['ClusterLabel'] = kmeans.labels_"
   ]
  },
  {
   "cell_type": "code",
   "execution_count": null,
   "metadata": {},
   "outputs": [],
   "source": [
    "# Check \n",
    "kinect_xyz_df.head()"
   ]
  },
  {
   "cell_type": "code",
   "execution_count": null,
   "metadata": {},
   "outputs": [],
   "source": [
    "# Plotting a point cloud for a specific row (Kinect data sample)\n",
    "plt.figure()\n",
    "row = kinect_xyz_df.iloc[500]\n",
    "row_triples = helpers.xyz_triples(row)\n",
    "helpers.plot_xyz_triples(row_triples, title='Row 500')\n",
    "plt.show()"
   ]
  },
  {
   "cell_type": "markdown",
   "metadata": {},
   "source": [
    "Once we have the header for the Kinect data we can follow up on what body positions these clusters correspond to and try\n",
    "\n",
    "(1) Find average of position of each skelton.joint.cluster\n",
    "(2) Visualization of joint.clusters \n",
    "(3) Markov state transition diagram of those body positions\n",
    "(4) label all data points according to their cluster, name those clusters and something like \"active\", \"passive\" \"happy\".\n"
   ]
  },
  {
   "cell_type": "code",
   "execution_count": null,
   "metadata": {
    "collapsed": true
   },
   "outputs": [],
   "source": [
    "PairOccurrences = {}\n",
    "for a in range(8):\n",
    "    for b in range(8):\n",
    "        PairOccurrences[a,b] = 0\n",
    "        \n",
    "for c in range (0,len(kinect_xyz_df.index)-2):\n",
    "    PairOccurrences[int(kinect_xyz_df.iloc[c]['ClusterLabel']),int(kinect_xyz_df.iloc[c+1]['ClusterLabel'])] +=1 \n",
    "\n",
    "num_transitions = sum(PairOccurrences.values())\n",
    "transitionFrequencies = {}\n",
    "for k in PairOccurrences.keys():\n",
    "    transitionFrequencies[k] = PairOccurrences[k] / num_transitions * 100"
   ]
  },
  {
   "cell_type": "code",
   "execution_count": null,
   "metadata": {},
   "outputs": [],
   "source": [
    "pp.pprint(transitionFrequencies)"
   ]
  },
  {
   "cell_type": "markdown",
   "metadata": {},
   "source": [
    "### Visualizing skeletons"
   ]
  },
  {
   "cell_type": "code",
   "execution_count": null,
   "metadata": {},
   "outputs": [],
   "source": [
    "row = kinect_xyz_df.iloc[500]\n",
    "row_triples = helpers.xyz_triples(row)\n",
    "\n",
    "fig = plt.figure(1)\n",
    "ax = Axes3D(fig)\n",
    "ax.scatter(row_triples['X_POS'], row_triples['Y_POS'], row_triples['Z_POS'])\n",
    "ax.set_xlabel('X_POS')\n",
    "ax.set_ylabel('Y_POS')\n",
    "ax.set_zlabel('Z_POS')\n",
    "ax.set_title('EQW and KBR Skeletons (row 500)')\n",
    "\n",
    "# TODO: put into helpers.py eventually\n",
    "def draw_line(ax, a, b):    \n",
    "    x = np.linspace(a[0], b[0], 100)\n",
    "    y = np.linspace(a[1], b[1], 100)\n",
    "    z = np.linspace(a[2], b[2], 100)\n",
    "    ax.plot(x, y, z)"
   ]
  },
  {
   "cell_type": "code",
   "execution_count": null,
   "metadata": {
    "collapsed": true
   },
   "outputs": [],
   "source": [
    "# Drop all the lower body positions before clustering/analyzing (skeleton_df_upper)\n",
    "\n",
    "# TODO: put into helpers.py eventually\n",
    "UPPER_PARTS = ['SHOULDER', 'HEAD', 'ELBOW', 'WRIST', 'HAND'] \n",
    "UPPER_PARTS_COLS = []\n",
    "\n",
    "for c in skeleton_df.columns.values.tolist():\n",
    "    for part in UPPER_PARTS:\n",
    "        if ('POS' in c) and (part in c) and ('CONF' not in c):\n",
    "            UPPER_PARTS_COLS.append(c)\n",
    "\n",
    "skeleton_df_upper = skeleton_df[UPPER_PARTS_COLS]"
   ]
  },
  {
   "cell_type": "code",
   "execution_count": null,
   "metadata": {},
   "outputs": [],
   "source": [
    "# Group by cluster for individual cluster analysis\n",
    "clusters = skeleton_df.groupby('ClusterLabel')\n",
    "cluster7 = clusters.get_group(7)\n",
    "cluster7centroid = cluster7.mean()"
   ]
  },
  {
   "cell_type": "code",
   "execution_count": null,
   "metadata": {
    "collapsed": true
   },
   "outputs": [],
   "source": [
    "# TODO: put into helpers.py eventually \n",
    "JOINT_PAIRS = [\n",
    "                ['WRIST_LEFT', 'HAND_LEFT'],\n",
    "                ['WRIST_LEFT', 'ELBOW_LEFT'],\n",
    "                ['ELBOW_LEFT', 'SHOULDER_LEFT'],\n",
    "                ['SHOULDER_LEFT', 'SHOULDER_CENTER'],\n",
    "                ['SHOULDER_CENTER', 'SHOULDER_RIGHT'],\n",
    "                ['ELBOW_RIGHT', 'SHOULDER_RIGHT'],\n",
    "                ['WRIST_RIGHT', 'ELBOW_RIGHT'],\n",
    "                ['WRIST_RIGHT', 'HAND_RIGHT'],\n",
    "                ['SHOULDER_CENTER', 'HEAD'],\n",
    "              ]\n",
    "\n",
    "def plot_skeleton(ax, row):\n",
    "    # expecting row to be from a dataframe with UPPER_PARTS_COLS values\n",
    "    \n",
    "    for person in ['P1', 'P2']:\n",
    "        for jp in JOINT_PAIRS:\n",
    "            draw_line(ax, [row[jp[0]+'_POS_X_'+person], row[jp[0]+'_POS_Z_'+person], row[jp[0]+'_POS_Y_'+person]], \n",
    "                          [row[jp[1]+'_POS_X_'+person], row[jp[1]+'_POS_Z_'+person], row[jp[1]+'_POS_Y_'+person]])\n",
    "                \n",
    "    return "
   ]
  },
  {
   "cell_type": "code",
   "execution_count": null,
   "metadata": {},
   "outputs": [],
   "source": [
    "test_row = cluster7centroid\n",
    "title = 'Python Kinect Skeleton Cluster 7 Mean'\n",
    "\n",
    "fig = plt.figure(5)\n",
    "ax = Axes3D(fig)\n",
    "plot_skeleton(ax, test_row)\n",
    "ax.set_xlabel('x position')\n",
    "ax.set_ylabel('y position')\n",
    "ax.set_zlabel('z position')\n",
    "ax.set_title(title)\n",
    "plt.savefig('figs/'+title.replace(' ', '')+'.jpg', dpi=300)\n",
    "plt.show()"
   ]
  },
  {
   "cell_type": "markdown",
   "metadata": {},
   "source": [
    "^ Cluster 7 = hands out passive"
   ]
  },
  {
   "cell_type": "markdown",
   "metadata": {},
   "source": [
    "### Markov Analysis with networkx"
   ]
  },
  {
   "cell_type": "code",
   "execution_count": null,
   "metadata": {
    "collapsed": true
   },
   "outputs": [],
   "source": [
    "# TODO: put into helpers.py eventually\n",
    "import networkx as nx\n",
    "import matplotlib.pyplot as plt\n",
    "\n",
    "def draw_graph(transitionFrequencies, \n",
    "               labels=None, \n",
    "               graph_layout='shell',\n",
    "               node_size=7000, \n",
    "               node_color='pink', \n",
    "               node_alpha=0.3,\n",
    "               node_text_size=40,\n",
    "               edge_color='blue', \n",
    "               edge_alpha=0.3, \n",
    "               edge_tickness=1,\n",
    "               edge_text_pos=0.3,\n",
    "               text_font='sans-serif'):\n",
    "\n",
    "    # create networkx graph\n",
    "    G=nx.Graph()\n",
    "\n",
    "    # add edges\n",
    "    for edge in transitionFrequencies.keys():\n",
    "        G.add_edge(edge[0],edge[1])\n",
    "\n",
    "    # these are different layouts for the network you may try\n",
    "    # shell seems to work best\n",
    "    if graph_layout == 'spring':\n",
    "        graph_pos=nx.spring_layout(G)\n",
    "    elif graph_layout == 'spectral':\n",
    "        graph_pos=nx.spectral_layout(G)\n",
    "    elif graph_layout == 'random':\n",
    "        graph_pos=nx.random_layout(G)\n",
    "    else:\n",
    "        graph_pos=nx.shell_layout(G)\n",
    "\n",
    "    # draw graph\n",
    "    nx.draw_networkx_nodes(G,graph_pos,node_size=node_size, \n",
    "                           alpha=node_alpha, node_color=node_color)\n",
    "    nx.draw_networkx_edges(G,graph_pos,width=edge_tickness,\n",
    "                           alpha=edge_alpha,edge_color=edge_color)\n",
    "    nx.draw_networkx_labels(G, graph_pos,font_size=node_text_size,\n",
    "                            font_family=text_font)      \n",
    "    nx.draw_networkx_edge_labels(G, \n",
    "                                 graph_pos, \n",
    "                                 edge_labels=transitionFrequencies, \n",
    "                                 label_pos=edge_text_pos,\n",
    "                                 font_size=24)\n",
    "    plt.show()"
   ]
  },
  {
   "cell_type": "code",
   "execution_count": null,
   "metadata": {},
   "outputs": [],
   "source": [
    "PairOccurrences = {}\n",
    "for a in range(8):\n",
    "    for b in range(8):\n",
    "        PairOccurrences[a,b] = 0\n",
    "        \n",
    "for c in range (0,len(kinect_xyz_df.index)-2):\n",
    "    PairOccurrences[int(kinect_xyz_df.iloc[c]['ClusterLabel']),\n",
    "                    int(kinect_xyz_df.iloc[c+1]['ClusterLabel'])] +=1 \n",
    "\n",
    "num_transitions = sum(PairOccurrences.values())\n",
    "transitionFrequencies = {}\n",
    "for k in PairOccurrences.keys():\n",
    "    transitionFrequencies[k] = format(PairOccurrences[k] / num_transitions * 100, '.2f')\n",
    "plt.figure(figsize=(20,20))\n",
    "draw_graph(transitionFrequencies)"
   ]
  }
 ],
 "metadata": {
  "kernelspec": {
   "display_name": "Python 3",
   "language": "python",
   "name": "python3"
  },
  "language_info": {
   "codemirror_mode": {
    "name": "ipython",
    "version": 3
   },
   "file_extension": ".py",
   "mimetype": "text/x-python",
   "name": "python",
   "nbconvert_exporter": "python",
   "pygments_lexer": "ipython3",
   "version": "3.6.3"
  }
 },
 "nbformat": 4,
 "nbformat_minor": 2
}
