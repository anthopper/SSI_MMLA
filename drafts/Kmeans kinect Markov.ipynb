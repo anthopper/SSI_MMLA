{
 "cells": [
  {
   "cell_type": "markdown",
   "metadata": {},
   "source": [
    "## Intro\n",
    "Summarize CT^2 and Bertrant, Maybe Pea as well\n"
   ]
  },
  {
   "cell_type": "code",
   "execution_count": null,
   "metadata": {
    "collapsed": true
   },
   "outputs": [],
   "source": [
    "import numpy as np\n",
    "from sklearn.cluster import KMeans\n",
    "import pandas as pd\n",
    "pd.options.display.max_columns = None\n",
    "import matplotlib.pyplot as plt\n",
    "% matplotlib inline \n",
    "import matplotlib\n",
    "import matplotlib.pyplot as plt\n",
    "from mpl_toolkits.mplot3d import Axes3D\n",
    "% matplotlib notebook\n",
    "import seaborn as sns\n",
    "from IPython.display import display\n",
    "import pprint as pp\n",
    "import helpers # written by us for MMLA pipeline purposes\n",
    "# import mglearn"
   ]
  },
  {
   "cell_type": "code",
   "execution_count": null,
   "metadata": {
    "collapsed": true
   },
   "outputs": [],
   "source": [
    "# [x] Set up skeleton_df\n",
    "skeleton_df = pd.read_csv('skeleton1.csv', sep=';', names=helpers.col_names())"
   ]
  },
  {
   "cell_type": "code",
   "execution_count": null,
   "metadata": {},
   "outputs": [],
   "source": [
    "kmeans = KMeans(n_clusters=3, random_state=0).fit(skeleton_df)\n",
    "# print(kmeans.labels_)\n",
    "#kmeans.predict([[unseen data goes here]])\n",
    "kmeans.cluster_centers_"
   ]
  },
  {
   "cell_type": "code",
   "execution_count": null,
   "metadata": {},
   "outputs": [],
   "source": [
    "# plt.hist(kmeans.labels_)\n",
    "# plt.xlabel('Cluster #')\n",
    "# plt.ylabel('Count')\n",
    "# plt.show()"
   ]
  },
  {
   "cell_type": "code",
   "execution_count": null,
   "metadata": {
    "collapsed": true
   },
   "outputs": [],
   "source": [
    "# [x] Set up dataframe of XYZ position columns\n",
    "kinect_xyz_df = helpers.create_xyz_df(skeleton_df)"
   ]
  },
  {
   "cell_type": "code",
   "execution_count": null,
   "metadata": {},
   "outputs": [],
   "source": [
    "kinect_xyz_df['ClusterLabel'] = kmeans.labels_"
   ]
  },
  {
   "cell_type": "code",
   "execution_count": null,
   "metadata": {},
   "outputs": [],
   "source": [
    "kinect_xyz_df.head()"
   ]
  },
  {
   "cell_type": "code",
   "execution_count": null,
   "metadata": {},
   "outputs": [],
   "source": [
    "# [x] Plotting a point cloud for a specific row of Kinect data\n",
    "#cluster0 = kinect_xyz_df.loc[kinect_xyz_df['ClusterLabel'] == 0]\n",
    "#the0row = cluster0.sample(n=1)\n",
    "row = kinect_xyz_df.iloc[50000]\n",
    "\n",
    "#cluster0 = kinect_xyz_df.loc[kinect_xyz_df['ClusterLabel'] == 0]\n",
    "#row = cluster0.sample(n=1)\n",
    "row_triples = helpers.xyz_triples(row)\n",
    "helpers.plot_xyz_triples(row_triples, title='Unity:Programming under the sea(row 500)')\n",
    "\n",
    "# [ ] TODO: plotting lines between joints\n",
    "# [ ] TODO: rotateable/draggable 3D axes"
   ]
  },
  {
   "cell_type": "code",
   "execution_count": null,
   "metadata": {
    "collapsed": true
   },
   "outputs": [],
   "source": [
    "cluster_item = [500,50000,35000,65000,37000]"
   ]
  },
  {
   "cell_type": "markdown",
   "metadata": {},
   "source": [
    "Once we have the header for the Kinect data we can follow up on what body positions these clusters correspond to and try\n",
    "\n",
    "(1) Find average of position of each skelton.joint.cluster\n",
    "(2) Visualization of joint.clusters \n",
    "(3) Markov state transition diagram of those body positions\n",
    "(4) label all data points according to their cluster, name those clusters and something like \"active\", \"passive\" \"happy\".\n"
   ]
  },
  {
   "cell_type": "code",
   "execution_count": null,
   "metadata": {
    "collapsed": true
   },
   "outputs": [],
   "source": [
    "# Now just need to label coloumns \n",
    "# of df with the kmeans_labels_values\n",
    "skeleton_df['ClusterLabel'] = kmeans.labels_\n",
    "#skeleton_df"
   ]
  },
  {
   "cell_type": "code",
   "execution_count": null,
   "metadata": {
    "collapsed": true
   },
   "outputs": [],
   "source": [
    "# print(cluster1centroid)"
   ]
  },
  {
   "cell_type": "code",
   "execution_count": null,
   "metadata": {},
   "outputs": [],
   "source": [
    "%matplotlib inline\n",
    "x = skeleton_df.column='ClusterLabel'\n",
    "skeleton_df.hist(x, normed=False, bins=16)\n",
    "plt.ylabel('Count');\n",
    "plt.xlabel('Clusters');"
   ]
  },
  {
   "cell_type": "code",
   "execution_count": null,
   "metadata": {
    "collapsed": true
   },
   "outputs": [],
   "source": [
    "# X, y = mglearn.datasets.make_forge()\n",
    "\n",
    "# mglearn.discrete_scatter(X[:,0],X[:,1], y)\n",
    "# plt.legend([\"Class 0\", \"Class 1\"], loc=4)\n",
    "# plt.xlabel(\"First feature\")\n",
    "# plt.ylabel(\"Second feature\")\n",
    "# print(\"X.shape: {}\".format(X.shape))"
   ]
  },
  {
   "cell_type": "code",
   "execution_count": null,
   "metadata": {
    "collapsed": true
   },
   "outputs": [],
   "source": [
    "# mglearn.datasets.make_forge()"
   ]
  },
  {
   "cell_type": "code",
   "execution_count": null,
   "metadata": {
    "collapsed": true
   },
   "outputs": [],
   "source": [
    "# kinect_xyz_df"
   ]
  },
  {
   "cell_type": "code",
   "execution_count": null,
   "metadata": {
    "collapsed": true
   },
   "outputs": [],
   "source": [
    "# skeleton_df['ClusterLabel']"
   ]
  },
  {
   "cell_type": "code",
   "execution_count": null,
   "metadata": {},
   "outputs": [],
   "source": [
    "# P = skeleton_df #np.matrix([[1., 0., 0., 0., 0., 0.],\n",
    "#     #           [1./4, 1./2, 0., 1./4, 0., 0.],\n",
    "#     #           [0., 0., 0., 1., 0., 0.],\n",
    "#     #           [1./16, 1./4, 1./8, 1./4, 1./4, 1./16],\n",
    "#     #           [0., 0., 0., 1./4, 1./2, 1./4],\n",
    "#     #           [0., 0., 0., 0., 0., 1.]])\n",
    "\n",
    "# #v = np.matrix([[0,1,2,3,4,5,6,7]])\n",
    "\n",
    "# v = skeleton_df['ClusterLabel']\n",
    "\n",
    "# # Get the data\n",
    "# plot_data = []\n",
    "# for step in skeleton_df.index:\n",
    "#     result = v * P**step\n",
    "#     plot_data.append(np.array(result).flatten())\n",
    "\n",
    "# # Convert the data format\n",
    "# plot_data = np.array(plot_data)\n",
    "\n",
    "# # Create the plot\n",
    "# pyplot.figure(1)\n",
    "# pyplot.xlabel('Steps')\n",
    "# pyplot.ylabel('Probability')\n",
    "# lines = []\n",
    "# for i, shape in zip(range(58313), ['x', 'h', 'H', 's', '8', 'r+']):\n",
    "#     line, = pyplot.plot(plot_data[:, i], shape, label=\"Cluster%i\" % (i))\n",
    "#     lines.append(line)\n",
    "# pyplot.legend(handles=lines, loc=1)\n",
    "# pyplot.show()"
   ]
  },
  {
   "cell_type": "code",
   "execution_count": null,
   "metadata": {},
   "outputs": [],
   "source": [
    "import collections\n",
    "a = kinect_xyz_df['ClusterLabel']\n",
    "counter=collections.Counter(a)\n",
    "print(counter)\n",
    "\n",
    "print(counter.values())\n",
    "# [4, 4, 2, 1, 2]\n",
    "print(counter.keys())\n",
    "# [1, 2, 3, 4, 5]\n",
    "print(counter.most_common(3))\n",
    "# [(1, 4), (2, 4), (3, 2)]"
   ]
  },
  {
   "cell_type": "code",
   "execution_count": null,
   "metadata": {},
   "outputs": [],
   "source": [
    "# # Emily\n",
    "\n",
    "# PairOccurrences = {}\n",
    "# for a in range(8):\n",
    "#     for b in range(8):\n",
    "#         PairOccurrences[a,b] = 0\n",
    "        \n",
    "# for c in range (0,len(kinect_xyz_df.index)-2):\n",
    "#     PairOccurrences[int(kinect_xyz_df.iloc[c]['ClusterLabel']),int(kinect_xyz_df.iloc[c+1]['ClusterLabel'])] +=1 "
   ]
  },
  {
   "cell_type": "code",
   "execution_count": null,
   "metadata": {},
   "outputs": [],
   "source": [
    "# kinect_xyz_df.iloc[0]['ClusterLabel'], kinect_xyz_df.iloc[1]['ClusterLabel']\n",
    "# print(list(range(0, 10)))\n",
    "# print(len(kinect_xyz_df.index))\n",
    "# kinect_xyz_df.iloc[58311]['ClusterLabel'], kinect_xyz_df.iloc[58312]['ClusterLabel']\n",
    "# print(kinect_xyz_df.index-3)"
   ]
  },
  {
   "cell_type": "code",
   "execution_count": null,
   "metadata": {},
   "outputs": [],
   "source": [
    "# # Emily \n",
    "\n",
    "# num_transitions = sum(PairOccurrences.values())\n",
    "# transitionFrequencies = {}\n",
    "# for k in PairOccurrences.keys():\n",
    "#     transitionFrequencies[k] = PairOccurrences[k] / num_transitions * 100\n",
    "\n",
    "# graphNodes = list(transitionFrequencies.keys())\n",
    "# graphEdges = list(transitionFrequencies.values())"
   ]
  },
  {
   "cell_type": "code",
   "execution_count": null,
   "metadata": {},
   "outputs": [],
   "source": [
    "# Send to Kit\n",
    "\n",
    "PairOccurrences = {}\n",
    "for a in range(8):\n",
    "    for b in range(8):\n",
    "        PairOccurrences[a,b] = 0\n",
    "        \n",
    "for c in range (0,len(kinect_xyz_df.index)-2):\n",
    "    PairOccurrences[int(kinect_xyz_df.iloc[c]['ClusterLabel']),int(kinect_xyz_df.iloc[c+1]['ClusterLabel'])] +=1 \n",
    "\n",
    "num_transitions = sum(PairOccurrences.values())\n",
    "transitionFrequencies = {}\n",
    "for k in PairOccurrences.keys():\n",
    "    transitionFrequencies[k] = PairOccurrences[k] / num_transitions * 100\n",
    "\n",
    "pp.pprint(transitionFrequencies)\n",
    "graphEdges = list(transitionFrequencies.keys())\n",
    "graphFrequencies = list(transitionFrequencies.values())"
   ]
  },
  {
   "cell_type": "code",
   "execution_count": null,
   "metadata": {},
   "outputs": [],
   "source": [
    "print(list(transitionFrequencies.values()))"
   ]
  },
  {
   "cell_type": "markdown",
   "metadata": {},
   "source": [
    "Plotting skeletons"
   ]
  },
  {
   "cell_type": "code",
   "execution_count": null,
   "metadata": {},
   "outputs": [],
   "source": [
    "row = kinect_xyz_df.iloc[500]\n",
    "row_triples = helpers.xyz_triples(row)\n",
    "\n",
    "fig = plt.figure(1)\n",
    "ax = Axes3D(fig)\n",
    "ax.scatter(row_triples['X_POS'], row_triples['Y_POS'], row_triples['Z_POS'])\n",
    "ax.set_xlabel('X_POS')\n",
    "ax.set_ylabel('Y_POS')\n",
    "ax.set_zlabel('Z_POS')\n",
    "ax.set_title('EQW and KBR Skeletons (row 500)')\n",
    "\n",
    "def draw_line(ax, a, b):    \n",
    "    x = np.linspace(a[0], b[0], 100)\n",
    "    y = np.linspace(a[1], b[1], 100)\n",
    "    z = np.linspace(a[2], b[2], 100)\n",
    "    ax.plot(x, y, z)\n",
    "    \n",
    "# draw_line(ax, [0, 0, 0], [10, 10, 10])"
   ]
  },
  {
   "cell_type": "code",
   "execution_count": null,
   "metadata": {
    "collapsed": true
   },
   "outputs": [],
   "source": [
    "# [] Drop all the lower body positions before clustering/analyzing\n",
    "\n",
    "# TODO: put into helpers.py eventually\n",
    "\n",
    "UPPER_PARTS = ['SHOULDER', 'HEAD', 'ELBOW', 'WRIST', 'HAND'] \n",
    "UPPER_PARTS_COLS = []\n",
    "\n",
    "for c in skeleton_df.columns.values.tolist():\n",
    "    for part in UPPER_PARTS:\n",
    "        if ('POS' in c) and (part in c) and ('CONF' not in c):\n",
    "            UPPER_PARTS_COLS.append(c)\n",
    "            \n",
    "# pp.pprint(UPPER_PARTS_COLS)\n",
    "# row[['HIP_CENTER_POS_X_P1', 'ELBOW_LEFT_POS_X_P1']]\n",
    "# ...CONF is confidence yes? "
   ]
  },
  {
   "cell_type": "code",
   "execution_count": null,
   "metadata": {},
   "outputs": [],
   "source": [
    "skeleton_df_upper = skeleton_df[UPPER_PARTS_COLS]\n",
    "test_row = cluster1centroid\n",
    "\n",
    "JOINT_PAIRS = [\n",
    "                ['WRIST_LEFT', 'HAND_LEFT'],\n",
    "                ['WRIST_LEFT', 'ELBOW_LEFT'],\n",
    "                ['ELBOW_LEFT', 'SHOULDER_LEFT'],\n",
    "                ['SHOULDER_LEFT', 'SHOULDER_CENTER'],\n",
    "                ['SHOULDER_CENTER', 'SHOULDER_RIGHT'],\n",
    "                ['ELBOW_RIGHT', 'SHOULDER_RIGHT'],\n",
    "                ['WRIST_RIGHT', 'ELBOW_RIGHT'],\n",
    "                ['WRIST_RIGHT', 'HAND_RIGHT'],\n",
    "                ['SHOULDER_CENTER', 'HEAD'],\n",
    "              ]\n",
    "\n",
    "def plot_skeleton(ax, row):\n",
    "    # expecting row to be from a dataframe with UPPER_PARTS_COLS values\n",
    "    \n",
    "    for person in ['P1', 'P2']:\n",
    "        for jp in JOINT_PAIRS:\n",
    "#             print(jp[0]+'_POS_X_'+person)\n",
    "#             print([row[jp[0]+'_POS_X_'+person], row[jp[0]+'_POS_Y_'+person], row[jp[0]+'_POS_Z_'+person]])\n",
    "            draw_line(ax, [row[jp[0]+'_POS_X_'+person], row[jp[0]+'_POS_Z_'+person], row[jp[0]+'_POS_Y_'+person]], \n",
    "                          [row[jp[1]+'_POS_X_'+person], row[jp[1]+'_POS_Z_'+person], row[jp[1]+'_POS_Y_'+person]])\n",
    "                \n",
    "    # e.g. elbow to wrist\n",
    "#     draw_line(ax, [row['WRIST_LEFT_POS_X_P1'], row['WRIST_LEFT_POS_Y_P1'], row['WRIST_LEFT_POS_Z_P1']], \n",
    "#                   [row['ELBOW_LEFT_POS_X_P1'], row['ELBOW_LEFT_POS_Y_P1'], row['ELBOW_LEFT_POS_Z_P1']])\n",
    "    \n",
    "    return \n",
    "\n",
    "# print([row['WRIST_LEFT_POS_X_P1'], row['WRIST_LEFT_POS_Y_P1'], row['WRIST_LEFT_POS_Z_P1']])\n",
    "\n",
    "fig = plt.figure(5)\n",
    "ax = Axes3D(fig)\n",
    "plot_skeleton(ax, test_row)\n",
    "ax.set_xlabel('x position')\n",
    "ax.set_ylabel('y position')\n",
    "ax.set_zlabel('z position')\n",
    "ax.set_title('Kinect Skeleton 3 Cluster 2 Mean')\n",
    "plt.show()\n",
    "plt.savefig('Kinect Skeleton 3 Cluster 2 Mean.pdf', format='pdf', dpi=300)"
   ]
  },
  {
   "cell_type": "markdown",
   "metadata": {},
   "source": [
    "Cluster 7 = hands out passive"
   ]
  },
  {
   "cell_type": "code",
   "execution_count": null,
   "metadata": {
    "collapsed": true
   },
   "outputs": [],
   "source": [
    "# Group by cluster for individual cluster analysis\n",
    "clusters = skeleton_df.groupby('ClusterLabel')\n",
    "cluster1 = clusters.get_group(2)\n",
    "cluster1centroid = cluster1.mean()\n",
    "# Eventually we can visualize this\n",
    "# Perhaps this gets us the most prevalent positions... "
   ]
  },
  {
   "cell_type": "code",
   "execution_count": null,
   "metadata": {
    "collapsed": true
   },
   "outputs": [],
   "source": []
  }
 ],
 "metadata": {
  "kernelspec": {
   "display_name": "Python 3",
   "language": "python",
   "name": "python3"
  },
  "language_info": {
   "codemirror_mode": {
    "name": "ipython",
    "version": 3
   },
   "file_extension": ".py",
   "mimetype": "text/x-python",
   "name": "python",
   "nbconvert_exporter": "python",
   "pygments_lexer": "ipython3",
   "version": "3.6.3"
  }
 },
 "nbformat": 4,
 "nbformat_minor": 2
}
