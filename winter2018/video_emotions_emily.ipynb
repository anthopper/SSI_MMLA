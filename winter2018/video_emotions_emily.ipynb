{
 "cells": [
  {
   "cell_type": "markdown",
   "metadata": {},
   "source": [
    "## Exploratory analysis of video data from Python session \n",
    "\n",
    "(E and K pair debugging an implementation of the hangman game)"
   ]
  },
  {
   "cell_type": "code",
   "execution_count": 1,
   "metadata": {},
   "outputs": [],
   "source": [
    "# Import software libraries\n",
    "import numpy as np\n",
    "from sklearn.cluster import KMeans\n",
    "import pandas as pd\n",
    "import cv2\n",
    "\n",
    "import seaborn as sns # for the nicer default plot aesthetics \n",
    "import matplotlib.pyplot as plt\n",
    "from mpl_toolkits.mplot3d import Axes3D\n",
    "# % matplotlib inline \n",
    "% matplotlib notebook \n",
    "# ^ with notebook, remember to initiate and work on figures in the object-oriented way...\n",
    "\n",
    "from IPython.display import display\n",
    "pd.options.display.max_columns = None\n",
    "import pprint as pp\n",
    "\n",
    "import helpers # written by us for MMLA pipeline purposes"
   ]
  },
  {
   "cell_type": "markdown",
   "metadata": {},
   "source": [
    "#### Pre-processing the front-facing camera video with ffmpeg and opencv"
   ]
  },
  {
   "cell_type": "code",
   "execution_count": 2,
   "metadata": {},
   "outputs": [],
   "source": [
    "# Do this in a terminal window.\n",
    "\n",
    "# [] Resize images with ffmpeg\n",
    "# https://trac.ffmpeg.org/wiki/Scaling\n",
    "# $ ffmpeg -i screenCapture_8to11.avi -vf scale=320:-1 screenCapture_8to11.avi\n",
    "# $ ffmpeg -i webcam.avi -vf scale=320:-1 webcam_320.avi\n",
    "\n",
    "# [] Convert if needed\n",
    "# https://www.labnol.org/internet/useful-ffmpeg-commands/28490/\n",
    "# $ ffmpeg -i screenCapture_8to11.avi -c:v libx264 screenCapture_8to11.mp4\n",
    "\n",
    "# [] Extract all the frames!\n",
    "# https://stackoverflow.com/questions/10957412/fastest-way-to-extract-frames-using-ffmpeg\n",
    "# https://trac.ffmpeg.org/wiki/Seeking\n",
    "# $ ffmpeg -i webcam_segment_320.avi -r 1/1 $filename%03d.jpg\n",
    "# $ ffmpeg -r 1 webcam_segment_320.avi -r 1 \"$filename%03d.png\"\n",
    "# $ ffmpeg -i webcam_segment_320.avi \"$filename%03d.png\"\n",
    "\n",
    "# https://stackoverflow.com/questions/34786669/extract-all-video-frames-as-images-with-ffmpeg/34786929\n",
    "# $ mkdir frames\n",
    "# $ ffmpeg -i \"webcam_segment_320.avi\" \"frames/frame_%03d.jpg\"\n",
    "# $ ffmpeg -i \"webcam.avi\" \"frames/frame_%03d.jpg\""
   ]
  },
  {
   "cell_type": "code",
   "execution_count": 3,
   "metadata": {},
   "outputs": [],
   "source": [
    "# Yeah um this doesn't work off the shelf in jupyter notebooks\n",
    "# # https://docs.opencv.org/3.0-beta/doc/py_tutorials/py_gui/py_video_display/py_video_display.html\n",
    "\n",
    "# cap = cv2.VideoCapture('data\\webcam_segment_320.avi')\n",
    "\n",
    "# while(cap.isOpened()):\n",
    "#     ret, frame = cap.read()\n",
    "#     gray = cv2.cvtColor(frame, cv2.COLOR_BGR2GRAY)\n",
    "#     pp.pprint(gray)\n",
    "# #     cv2.imshow('frame',gray)\n",
    "# #     if cv2.waitKey(1) & 0xFF == ord('q'):\n",
    "# #         print('break')\n",
    "# #         break\n",
    "\n",
    "# cap.release()\n",
    "# cv2.destroyAllWindows()"
   ]
  },
  {
   "cell_type": "code",
   "execution_count": 4,
   "metadata": {},
   "outputs": [
    {
     "name": "stdout",
     "output_type": "stream",
     "text": [
      "did not run\n"
     ]
    }
   ],
   "source": [
    "# Do you want to run this cell when you run the entire notebook?\n",
    "# (This code only needs to be run once for a given session.)\n",
    "run_image_split = False\n",
    "\n",
    "# Do this in a terminal window if you haven't already\n",
    "# $ mkdir frames\n",
    "# $ mkdir split_frames\n",
    "\n",
    "# Extract the frames as mentioned in a previous cell \n",
    "\n",
    "# Look at your frames subfolder and manually set this. can automate later if desired\n",
    "NUM_FRAMES = 24254\n",
    "\n",
    "# Let's split\n",
    "if run_image_split:\n",
    "    for i in range(1, NUM_FRAMES + 1):\n",
    "        # Find and open a frame image\n",
    "        if i<10:\n",
    "            filename_i = '00' + str(i)\n",
    "        elif i<100:\n",
    "            filename_i = '0' + str(i)\n",
    "        else:\n",
    "            filename_i = str(i)\n",
    "        try:\n",
    "            img = cv2.imread('data/frames/frame_{filename_i}.jpg'.format(filename_i=filename_i))\n",
    "            # pp.pprint(img)\n",
    "        except:\n",
    "            print('except... please debug!')\n",
    "            break\n",
    "\n",
    "        # Split\n",
    "        rows, cols = img.shape[0], img.shape[1]\n",
    "        # print(rows, cols)\n",
    "\n",
    "        # top left corner 0, 0\n",
    "        # top right corner rows, 0\n",
    "        # bottom left corner 0, cols\n",
    "        # bottom right corner rows, cols\n",
    "        lhs_img = img[0:rows, :cols/2]\n",
    "        rhs_img = img[0:rows, cols/2:]\n",
    "\n",
    "        # Save\n",
    "        cv2.imwrite('data/split_frames/{filename_i}_lhs.png'.format(filename_i=filename_i),lhs_img)\n",
    "        cv2.imwrite('data/split_frames/{filename_i}_rhs.png'.format(filename_i=filename_i),rhs_img)\n",
    "        \n",
    "    print('done ;)')\n",
    "print('did not run')"
   ]
  },
  {
   "cell_type": "code",
   "execution_count": 5,
   "metadata": {},
   "outputs": [
    {
     "name": "stdout",
     "output_type": "stream",
     "text": [
      "done ;)\n"
     ]
    }
   ],
   "source": [
    "# Do you want to run this cell when you run the entire notebook?\n",
    "run_image_rotate = False\n",
    "\n",
    "if run_image_rotate:\n",
    "    for i in range(1, NUM_FRAMES + 1):\n",
    "        # Find and open a frame image\n",
    "        if i<10:\n",
    "            filename_i = '00' + str(i)\n",
    "        elif i<100:\n",
    "            filename_i = '0' + str(i)\n",
    "        else:\n",
    "            filename_i = str(i)\n",
    "        try:\n",
    "            lhs_img = cv2.imread('data/upside_down_split_frames/{filename_i}_lhs.png'.format(filename_i=filename_i))\n",
    "            rows,cols = lhs_img.shape[0], lhs_img.shape[1]\n",
    "            M = cv2.getRotationMatrix2D((cols/2,rows/2),180,1)\n",
    "            dst = cv2.warpAffine(lhs_img,M,(cols,rows))            \n",
    "            cv2.imwrite('data/ready_frames/{filename_i}_lhs.png'.format(filename_i=filename_i),dst)            \n",
    "\n",
    "            rhs_img = cv2.imread('data/upside_down_split_frames/{filename_i}_rhs.png'.format(filename_i=filename_i))\n",
    "            rows,cols = rhs_img.shape[0], lhs_img.shape[1]\n",
    "            M = cv2.getRotationMatrix2D((cols/2,rows/2),180,1)\n",
    "            dst = cv2.warpAffine(rhs_img,M,(cols,rows))            \n",
    "            cv2.imwrite('data/ready_frames/{filename_i}_rhs.png'.format(filename_i=filename_i),dst)            \n",
    "    \n",
    "        except:\n",
    "            print('except... please debug!')\n",
    "            break\n",
    "        print('done ;)')\n",
    "print('did not run')"
   ]
  },
  {
   "cell_type": "code",
   "execution_count": 6,
   "metadata": {},
   "outputs": [],
   "source": [
    "# https://trac.ffmpeg.org/wiki/Slideshow\n",
    "\n",
    "# $ ffmpeg -i '%03d_lhs.png' lhs_KBR.mp4\n",
    "# $ ffmpeg -i '%03d_rhs.png' rhs_EQW.mp4"
   ]
  }
 ],
 "metadata": {
  "kernelspec": {
   "display_name": "Python 2",
   "language": "python",
   "name": "python2"
  },
  "language_info": {
   "codemirror_mode": {
    "name": "ipython",
    "version": 2
   },
   "file_extension": ".py",
   "mimetype": "text/x-python",
   "name": "python",
   "nbconvert_exporter": "python",
   "pygments_lexer": "ipython2",
   "version": "2.7.14"
  }
 },
 "nbformat": 4,
 "nbformat_minor": 2
}
